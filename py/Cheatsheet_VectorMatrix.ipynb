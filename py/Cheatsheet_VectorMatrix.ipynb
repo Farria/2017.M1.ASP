{
 "cells": [
  {
   "cell_type": "markdown",
   "metadata": {},
   "source": [
    "# Correlated multivariate normal"
   ]
  },
  {
   "cell_type": "code",
   "execution_count": 1,
   "metadata": {
    "collapsed": true
   },
   "outputs": [],
   "source": [
    "import numpy as np"
   ]
  },
  {
   "cell_type": "code",
   "execution_count": null,
   "metadata": {
    "collapsed": true
   },
   "outputs": [],
   "source": []
  },
  {
   "cell_type": "code",
   "execution_count": 33,
   "metadata": {
    "collapsed": false
   },
   "outputs": [
    {
     "data": {
      "text/plain": [
       "array([[ 1. ,  0.7, -0.2],\n",
       "       [ 0.7,  1. ,  0.5],\n",
       "       [-0.2,  0.5,  1. ]])"
      ]
     },
     "execution_count": 33,
     "metadata": {},
     "output_type": "execute_result"
    }
   ],
   "source": [
    "sig_v = np.array([2, 5, 2])\n",
    "cor_m = np.array([[1, 0.7, -0.2], [0.7, 1, 0.5], [-0.2, 0.5, 1]])\n",
    "cor_m"
   ]
  },
  {
   "cell_type": "code",
   "execution_count": 47,
   "metadata": {
    "collapsed": false
   },
   "outputs": [
    {
     "name": "stdout",
     "output_type": "stream",
     "text": [
      "[ 4 25  4] \n",
      "\n",
      "[[ 1.    0.49  0.04]\n",
      " [ 0.49  1.    0.25]\n",
      " [ 0.04  0.25  1.  ]] \n",
      "\n",
      "[[ 2.   3.5 -0.4]\n",
      " [ 1.4  5.   1. ]\n",
      " [-0.4  2.5  2. ]] \n",
      "\n",
      "[[ 2.   3.5 -0.4]\n",
      " [ 1.4  5.   1. ]\n",
      " [-0.4  2.5  2. ]] \n",
      "\n"
     ]
    }
   ],
   "source": [
    "# Vector * Vector(Matrix * Matrix): Component-wise\n",
    "print(sig_v * sig_v, '\\n')\n",
    "print(cor_m * cor_m, '\\n')\n",
    "\n",
    "# Matrix x Vector ??: component-wise in each vector\n",
    "print( cor_m * sig_v, '\\n')\n",
    "print( sig_v * cor_m, '\\n') # Same"
   ]
  },
  {
   "cell_type": "code",
   "execution_count": 38,
   "metadata": {
    "collapsed": false
   },
   "outputs": [
    {
     "name": "stdout",
     "output_type": "stream",
     "text": [
      "33\n",
      "33\n"
     ]
    }
   ],
   "source": [
    "# Dot(inner) product\n",
    "print( np.dot(sig_v, sig_v) )\n",
    "print( sig_v.dot(sig_v) ) # same"
   ]
  },
  {
   "cell_type": "code",
   "execution_count": 43,
   "metadata": {
    "collapsed": false
   },
   "outputs": [
    {
     "name": "stdout",
     "output_type": "stream",
     "text": [
      "[[ 1.53  1.3  -0.05]\n",
      " [ 1.3   1.74  0.86]\n",
      " [-0.05  0.86  1.29]] \n",
      "\n",
      "[ 5.1  7.4  4.1] \n",
      "\n",
      "[ 5.1  7.4  4.1]\n"
     ]
    }
   ],
   "source": [
    "# Matrix multiplication ?\n",
    "print(np.matmul(cor_m, cor_m), '\\n')\n",
    "\n",
    "print(np.matmul(cor_m, sig_v), '\\n')  # sig_v is treated as a column vector\n",
    "\n",
    "print(np.matmul(sig_v, cor_m)) # sig_v is treated as a row vector"
   ]
  },
  {
   "cell_type": "code",
   "execution_count": 58,
   "metadata": {
    "collapsed": false
   },
   "outputs": [
    {
     "name": "stdout",
     "output_type": "stream",
     "text": [
      "[[2]\n",
      " [5]\n",
      " [2]]\n"
     ]
    }
   ],
   "source": [
    "# Exciplicitly make a column vector\n",
    "print( np.reshape(sig_v,(3,1)) )\n",
    "#print( sig_v.reshape((3,1)) )"
   ]
  },
  {
   "cell_type": "code",
   "execution_count": 65,
   "metadata": {
    "collapsed": false
   },
   "outputs": [
    {
     "name": "stdout",
     "output_type": "stream",
     "text": [
      "[[  4.    7.   -0.8]\n",
      " [  7.   25.    5. ]\n",
      " [ -0.8   5.    4. ]]\n"
     ]
    }
   ],
   "source": [
    "cov_m = sig_v * cor_m * np.reshape(sig_v,(3,1))\n",
    "print(cov_m)"
   ]
  },
  {
   "cell_type": "code",
   "execution_count": null,
   "metadata": {
    "collapsed": true
   },
   "outputs": [],
   "source": []
  },
  {
   "cell_type": "code",
   "execution_count": 75,
   "metadata": {
    "collapsed": false
   },
   "outputs": [
    {
     "name": "stdout",
     "output_type": "stream",
     "text": [
      "[[ 2.          0.          0.        ]\n",
      " [ 3.5         3.57071421  0.        ]\n",
      " [-0.4         1.79235851  0.79211803]]\n"
     ]
    }
   ],
   "source": [
    "chol_m = np.linalg.cholesky(cov_m)\n",
    "print(chol_m)"
   ]
  },
  {
   "cell_type": "code",
   "execution_count": 76,
   "metadata": {
    "collapsed": false
   },
   "outputs": [
    {
     "name": "stdout",
     "output_type": "stream",
     "text": [
      "[[  4.    7.   -0.8]\n",
      " [  7.   25.    5. ]\n",
      " [ -0.8   5.    4. ]]\n"
     ]
    },
    {
     "data": {
      "text/plain": [
       "array([[ 0.,  0.,  0.],\n",
       "       [ 0.,  0.,  0.],\n",
       "       [ 0.,  0.,  0.]])"
      ]
     },
     "execution_count": 76,
     "metadata": {},
     "output_type": "execute_result"
    }
   ],
   "source": [
    "print( np.matmul( chol_m, chol_m.transpose() ) )\n",
    "np.matmul( chol_m, chol_m.transpose() ) - cov_m"
   ]
  },
  {
   "cell_type": "code",
   "execution_count": null,
   "metadata": {
    "collapsed": true
   },
   "outputs": [],
   "source": []
  }
 ],
 "metadata": {
  "kernelspec": {
   "display_name": "Python [default]",
   "language": "python",
   "name": "python3"
  },
  "language_info": {
   "codemirror_mode": {
    "name": "ipython",
    "version": 3
   },
   "file_extension": ".py",
   "mimetype": "text/x-python",
   "name": "python",
   "nbconvert_exporter": "python",
   "pygments_lexer": "ipython3",
   "version": "3.5.2"
  }
 },
 "nbformat": 4,
 "nbformat_minor": 1
}
