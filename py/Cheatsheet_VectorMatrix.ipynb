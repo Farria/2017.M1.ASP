{
 "cells": [
  {
   "cell_type": "markdown",
   "metadata": {},
   "source": [
    "# Correlated multivariate normal"
   ]
  },
  {
   "cell_type": "code",
   "execution_count": 2,
   "metadata": {
    "collapsed": true
   },
   "outputs": [],
   "source": [
    "import numpy as np"
   ]
  },
  {
   "cell_type": "code",
   "execution_count": null,
   "metadata": {
    "collapsed": true
   },
   "outputs": [],
   "source": []
  },
  {
   "cell_type": "code",
   "execution_count": 3,
   "metadata": {
    "collapsed": false
   },
   "outputs": [
    {
     "name": "stdout",
     "output_type": "stream",
     "text": [
      "[2 5 2] \n",
      " [[ 1.   0.7 -0.2]\n",
      " [ 0.7  1.   0.5]\n",
      " [-0.2  0.5  1. ]]\n"
     ]
    }
   ],
   "source": [
    "sig_v = np.array([2, 5, 2])\n",
    "cor_m = np.array([[1, 0.7, -0.2], [0.7, 1, 0.5], [-0.2, 0.5, 1]])\n",
    "print(sig_v, '\\n', cor_m)"
   ]
  },
  {
   "cell_type": "code",
   "execution_count": 4,
   "metadata": {
    "collapsed": false
   },
   "outputs": [
    {
     "name": "stdout",
     "output_type": "stream",
     "text": [
      "[ 4 25  4] \n",
      "\n",
      "[[ 1.    0.49  0.04]\n",
      " [ 0.49  1.    0.25]\n",
      " [ 0.04  0.25  1.  ]] \n",
      "\n",
      "[[ 2.   3.5 -0.4]\n",
      " [ 1.4  5.   1. ]\n",
      " [-0.4  2.5  2. ]] \n",
      "\n",
      "[[ 2.   3.5 -0.4]\n",
      " [ 1.4  5.   1. ]\n",
      " [-0.4  2.5  2. ]] \n",
      "\n"
     ]
    }
   ],
   "source": [
    "# Vector * Vector(Matrix * Matrix): Component-wise\n",
    "print(sig_v * sig_v, '\\n')\n",
    "print(cor_m * cor_m, '\\n')\n",
    "\n",
    "# Matrix x Vector ??: component-wise in each vector\n",
    "print( cor_m * sig_v, '\\n')\n",
    "print( sig_v * cor_m, '\\n') # Same"
   ]
  },
  {
   "cell_type": "code",
   "execution_count": 5,
   "metadata": {
    "collapsed": false
   },
   "outputs": [
    {
     "name": "stdout",
     "output_type": "stream",
     "text": [
      "33\n",
      "33\n"
     ]
    }
   ],
   "source": [
    "# Dot(inner) product\n",
    "print( np.dot(sig_v, sig_v) )\n",
    "print( sig_v.dot(sig_v) ) # same"
   ]
  },
  {
   "cell_type": "code",
   "execution_count": 6,
   "metadata": {
    "collapsed": false
   },
   "outputs": [
    {
     "name": "stdout",
     "output_type": "stream",
     "text": [
      "[[ 1.53  1.3  -0.05]\n",
      " [ 1.3   1.74  0.86]\n",
      " [-0.05  0.86  1.29]] \n",
      "\n",
      "[ 5.1  7.4  4.1] \n",
      "\n",
      "[ 5.1  7.4  4.1]\n"
     ]
    }
   ],
   "source": [
    "# Matrix multiplication ?\n",
    "print(np.matmul(cor_m, cor_m), '\\n')\n",
    "\n",
    "print(np.matmul(cor_m, sig_v), '\\n')  # sig_v is treated as a column vector\n",
    "\n",
    "print(np.matmul(sig_v, cor_m)) # sig_v is treated as a row vector"
   ]
  },
  {
   "cell_type": "code",
   "execution_count": 7,
   "metadata": {
    "collapsed": false
   },
   "outputs": [
    {
     "name": "stdout",
     "output_type": "stream",
     "text": [
      "[[2]\n",
      " [5]\n",
      " [2]]\n"
     ]
    }
   ],
   "source": [
    "# Exciplicitly make a column vector\n",
    "print( np.reshape(sig_v,(3,1)) )\n",
    "#print( sig_v.reshape((3,1)) )\n",
    "#sig_v.transpose() # same"
   ]
  },
  {
   "cell_type": "code",
   "execution_count": 8,
   "metadata": {
    "collapsed": false
   },
   "outputs": [
    {
     "name": "stdout",
     "output_type": "stream",
     "text": [
      "[[  4.    7.   -0.8]\n",
      " [  7.   25.    5. ]\n",
      " [ -0.8   5.    4. ]]\n"
     ]
    }
   ],
   "source": [
    "cov_m = sig_v * cor_m * np.reshape(sig_v,(3,1))\n",
    "print(cov_m)"
   ]
  },
  {
   "cell_type": "code",
   "execution_count": null,
   "metadata": {
    "collapsed": true
   },
   "outputs": [],
   "source": []
  },
  {
   "cell_type": "code",
   "execution_count": 9,
   "metadata": {
    "collapsed": false,
    "scrolled": true
   },
   "outputs": [
    {
     "name": "stdout",
     "output_type": "stream",
     "text": [
      "[[ 2.          0.          0.        ]\n",
      " [ 3.5         3.57071421  0.        ]\n",
      " [-0.4         1.79235851  0.79211803]]\n"
     ]
    }
   ],
   "source": [
    "# Cholesky decomposition of covariance matrix\n",
    "\n",
    "chol_m = np.linalg.cholesky(cov_m)\n",
    "print(chol_m)"
   ]
  },
  {
   "cell_type": "code",
   "execution_count": 10,
   "metadata": {
    "collapsed": false
   },
   "outputs": [
    {
     "name": "stdout",
     "output_type": "stream",
     "text": [
      "[[  4.    7.   -0.8]\n",
      " [  7.   25.    5. ]\n",
      " [ -0.8   5.    4. ]] \n",
      "\n",
      "[[ 0.  0.  0.]\n",
      " [ 0.  0.  0.]\n",
      " [ 0.  0.  0.]]\n"
     ]
    }
   ],
   "source": [
    "# Let's verify that C x C^T = Covariance\n",
    "\n",
    "print( chol_m @ chol_m.transpose(), '\\n' )\n",
    "print( chol_m @ chol_m.transpose() - cov_m )"
   ]
  },
  {
   "cell_type": "code",
   "execution_count": 11,
   "metadata": {
    "collapsed": false
   },
   "outputs": [
    {
     "data": {
      "text/plain": [
       "array([[ 0.61295147, -0.73042392, -0.09696316, ..., -0.10503082,\n",
       "        -1.38387442, -0.911016  ],\n",
       "       [ 0.37007179, -0.10504174, -1.52577411, ...,  0.07904194,\n",
       "        -1.60315902, -0.89872176],\n",
       "       [-1.0276226 ,  1.48083121,  0.58050482, ...,  0.8934943 ,\n",
       "         0.96597255, -1.58429734]])"
      ]
     },
     "execution_count": 11,
     "metadata": {},
     "output_type": "execute_result"
    }
   ],
   "source": [
    "# Now let's create multivariate normal random variables following the covariance matrix\n",
    "\n",
    "# First, create standard normals (1000x3)\n",
    "\n",
    "znorm_m = np.random.normal(size=(3, 10000))\n",
    "znorm_m"
   ]
  },
  {
   "cell_type": "code",
   "execution_count": 13,
   "metadata": {
    "collapsed": false
   },
   "outputs": [
    {
     "data": {
      "text/plain": [
       "array([[  1.22590294,  -1.46084784,  -0.19392632, ...,  -0.21006163,\n",
       "         -2.76774883,  -1.82203199],\n",
       "       [  3.46675073,  -2.93155776,  -5.78747435, ...,  -0.08537168,\n",
       "        -10.56798317,  -6.39763455],\n",
       "       [ -0.39587767,   1.27689022,  -2.2361206 , ...,   0.89143677,\n",
       "         -1.55472167,  -2.50137569]])"
      ]
     },
     "execution_count": 13,
     "metadata": {},
     "output_type": "execute_result"
    }
   ],
   "source": [
    "# Then multiply C^T\n",
    "\n",
    "#xnorm_m = znorm_m @ chol_m.transpose()\n",
    "xnorm_m = chol_m @ znorm_m\n",
    "xnorm_m"
   ]
  },
  {
   "cell_type": "code",
   "execution_count": 14,
   "metadata": {
    "collapsed": false,
    "scrolled": true
   },
   "outputs": [
    {
     "name": "stdout",
     "output_type": "stream",
     "text": [
      "Cov from sample:\n",
      " [[  3.95075338   6.88686292  -0.81091698]\n",
      " [  6.88686292  24.87156734   5.10535661]\n",
      " [ -0.81091698   5.10535661   4.0869234 ]]\n",
      "Error:\n",
      " [[-0.04924662 -0.11313708 -0.01091698]\n",
      " [-0.11313708 -0.12843266  0.10535661]\n",
      " [-0.01091698  0.10535661  0.0869234 ]]\n"
     ]
    }
   ],
   "source": [
    "# Let's verify that X = C * Z  follows the covariance\n",
    "\n",
    "cov_m_sample = np.cov( xnorm_m )\n",
    "print( 'Cov from sample:\\n', cov_m_sample )\n",
    "print( 'Error:\\n', cov_m_sample - cov_m )"
   ]
  },
  {
   "cell_type": "code",
   "execution_count": 16,
   "metadata": {
    "collapsed": false
   },
   "outputs": [
    {
     "name": "stdout",
     "output_type": "stream",
     "text": [
      "Cov from sample:\n",
      " [[ 1.          0.69475215 -0.20180791]\n",
      " [ 0.69475215  1.          0.50637967]\n",
      " [-0.20180791  0.50637967  1.        ]]\n",
      "Error:\n",
      " [[ 0.         -0.00524785 -0.00180791]\n",
      " [-0.00524785  0.          0.00637967]\n",
      " [-0.00180791  0.00637967  0.        ]]\n"
     ]
    }
   ],
   "source": [
    "# also check the correation\n",
    "\n",
    "cor_m_sample = np.corrcoef( xnorm_m )\n",
    "print( 'Cov from sample:\\n', cor_m_sample )\n",
    "print( 'Error:\\n', cor_m_sample - cor_m )"
   ]
  },
  {
   "cell_type": "code",
   "execution_count": null,
   "metadata": {
    "collapsed": true
   },
   "outputs": [],
   "source": []
  }
 ],
 "metadata": {
  "anaconda-cloud": {},
  "kernelspec": {
   "display_name": "Python [default]",
   "language": "python",
   "name": "python3"
  },
  "language_info": {
   "codemirror_mode": {
    "name": "ipython",
    "version": 3
   },
   "file_extension": ".py",
   "mimetype": "text/x-python",
   "name": "python",
   "nbconvert_exporter": "python",
   "pygments_lexer": "ipython3",
   "version": "3.5.2"
  }
 },
 "nbformat": 4,
 "nbformat_minor": 1
}
