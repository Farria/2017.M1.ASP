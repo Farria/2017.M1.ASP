{
 "cells": [
  {
   "cell_type": "markdown",
   "metadata": {},
   "source": [
    "# Copula Demo"
   ]
  },
  {
   "cell_type": "code",
   "execution_count": 1,
   "metadata": {
    "collapsed": false
   },
   "outputs": [],
   "source": [
    "import numpy as np\n",
    "import matplotlib.pyplot as plt\n",
    "import scipy.stats as ss"
   ]
  },
  {
   "cell_type": "code",
   "execution_count": null,
   "metadata": {
    "collapsed": true
   },
   "outputs": [],
   "source": []
  },
  {
   "cell_type": "code",
   "execution_count": null,
   "metadata": {
    "collapsed": false
   },
   "outputs": [],
   "source": []
  },
  {
   "cell_type": "code",
   "execution_count": 18,
   "metadata": {
    "collapsed": false
   },
   "outputs": [],
   "source": [
    "rho = 0.99\n",
    "Z2 = np.random.normal(size=(1000,2))\n",
    "Z2[:,1] = Z2 @ np.array([rho, np.sqrt(1-rho**2)])"
   ]
  },
  {
   "cell_type": "code",
   "execution_count": 19,
   "metadata": {
    "collapsed": false
   },
   "outputs": [
    {
     "data": {
      "image/png": "[encoded data removed]",
      "text/plain": [
       "<matplotlib.figure.Figure at 0x16943745ac8>"
      ]
     },
     "metadata": {},
     "output_type": "display_data"
    }
   ],
   "source": [
    "# Plot on the domain of normal distribution [-infty, infty]\n",
    "plt.scatter(Z2[:,0], Z2[:,1])\n",
    "plt.axis('equal')\n",
    "plt.grid()\n",
    "plt.show()"
   ]
  },
  {
   "cell_type": "code",
   "execution_count": 20,
   "metadata": {
    "collapsed": false
   },
   "outputs": [
    {
     "data": {
      "text/plain": [
       "array([[-1.30308446, -1.4936323 ],\n",
       "       [ 0.29151447,  0.15224584],\n",
       "       [-0.25011293, -0.39434341],\n",
       "       ..., \n",
       "       [ 0.5084825 ,  0.49482632],\n",
       "       [ 1.20513771,  1.29785904],\n",
       "       [-0.56761674, -0.77577066]])"
      ]
     },
     "execution_count": 20,
     "metadata": {},
     "output_type": "execute_result"
    }
   ],
   "source": [
    "Z2"
   ]
  },
  {
   "cell_type": "code",
   "execution_count": 21,
   "metadata": {
    "collapsed": false
   },
   "outputs": [
    {
     "data": {
      "text/plain": [
       "array([[ 0.09627296,  0.06763588],\n",
       "       [ 0.61467106,  0.56050348],\n",
       "       [ 0.40125001,  0.34666376],\n",
       "       ..., \n",
       "       [ 0.69444249,  0.68963864],\n",
       "       [ 0.88592493,  0.90283211],\n",
       "       [ 0.28514762,  0.21894221]])"
      ]
     },
     "execution_count": 21,
     "metadata": {},
     "output_type": "execute_result"
    }
   ],
   "source": [
    "U2 = ss.norm.cdf(Z2)\n",
    "U2"
   ]
  },
  {
   "cell_type": "code",
   "execution_count": 22,
   "metadata": {
    "collapsed": false
   },
   "outputs": [
    {
     "data": {
      "image/png": "[encoded data removed]",
      "text/plain": [
       "<matplotlib.figure.Figure at 0x1694374ada0>"
      ]
     },
     "metadata": {},
     "output_type": "display_data"
    }
   ],
   "source": [
    "# Plot on the domain of uniform distribution [0,1]\n",
    "plt.scatter(U2[:,0], U2[:,1])\n",
    "plt.axis('equal')\n",
    "plt.show()"
   ]
  },
  {
   "cell_type": "code",
   "execution_count": 23,
   "metadata": {
    "collapsed": true
   },
   "outputs": [],
   "source": [
    "# Now use the joint pair (U1, U2) pair to the default rate\n",
    "lam = 1\n",
    "default = -np.log(U2)/lam"
   ]
  },
  {
   "cell_type": "code",
   "execution_count": 24,
   "metadata": {
    "collapsed": false
   },
   "outputs": [
    {
     "data": {
      "image/png": "[encoded data removed]",
      "text/plain": [
       "<matplotlib.figure.Figure at 0x169423df2e8>"
      ]
     },
     "metadata": {},
     "output_type": "display_data"
    }
   ],
   "source": [
    "plt.scatter(default[:,0], default[:,1])\n",
    "plt.axis('equal')\n",
    "plt.show()"
   ]
  },
  {
   "cell_type": "markdown",
   "metadata": {
    "collapsed": true
   },
   "source": [
    "## We create a Gaussian copula function"
   ]
  },
  {
   "cell_type": "code",
   "execution_count": 2,
   "metadata": {
    "collapsed": true
   },
   "outputs": [],
   "source": [
    "def CopulaGaussian(n_var=2, n_sample=1000, rho=0.0):\n",
    "    corr_mat = np.eye(n_var)*(1-rho) + rho\n",
    "    chol_mat = np.linalg.cholesky(corr_mat)\n",
    "    Z = np.random.normal(size=(n_sample, n_var)) @ chol_mat.transpose()\n",
    "    U = ss.norm.cdf(Z)\n",
    "    return U"
   ]
  },
  {
   "cell_type": "code",
   "execution_count": 5,
   "metadata": {
    "collapsed": false
   },
   "outputs": [],
   "source": [
    "U2 = CopulaGaussian(rho=0.5)"
   ]
  },
  {
   "cell_type": "code",
   "execution_count": 6,
   "metadata": {
    "collapsed": false
   },
   "outputs": [
    {
     "data": {
      "image/png": "[encoded data removed]",
      "text/plain": [
       "<matplotlib.figure.Figure at 0x8ba9320>"
      ]
     },
     "metadata": {},
     "output_type": "display_data"
    }
   ],
   "source": [
    "# Test the code\n",
    "plt.scatter(U2[:,0], U2[:,1])\n",
    "plt.axis('equal')\n",
    "plt.grid()\n",
    "plt.show()"
   ]
  },
  {
   "cell_type": "code",
   "execution_count": null,
   "metadata": {
    "collapsed": true
   },
   "outputs": [],
   "source": []
  },
  {
   "cell_type": "markdown",
   "metadata": {},
   "source": [
    "# Simple CDE demo"
   ]
  },
  {
   "cell_type": "markdown",
   "metadata": {},
   "source": [
    "* Assume that the individual loans have the default rate of 0.2 (20% of loans default every year)\n",
    "* Let's package 10 (possibly sub-prime) loans into our CDO\n",
    "* Create gaussian copula with rho = 0.5 vs 0.9\n",
    "* Assume the maturity of our CDO is 1 year. \n",
    "* Assume the senior tranche is the bottom 50% of the loan (i.e. not affected by the first 40% loss)"
   ]
  },
  {
   "cell_type": "code",
   "execution_count": 63,
   "metadata": {
    "collapsed": true
   },
   "outputs": [],
   "source": [
    "# Gaussian copula \n",
    "lam = 0.2\n",
    "n_sample=10000\n",
    "U2 = CopulaGaussian(n_var=10, n_sample=n_sample, rho=0.5)\n",
    "\n",
    "# Generate RNs for the default time\n",
    "default_time = -np.log(U2)/lam"
   ]
  },
  {
   "cell_type": "code",
   "execution_count": 64,
   "metadata": {
    "collapsed": false
   },
   "outputs": [
    {
     "name": "stdout",
     "output_type": "stream",
     "text": [
      "[ 5.01954719  5.00976322  5.06185896  4.97783685  5.05091871  5.01279559\n",
      "  5.0023097   4.97534655  4.98894927  4.96037712]\n",
      "Exact default rate < 1yr: 0.181269246922\n",
      "[ 0.1814  0.18    0.1809  0.1797  0.1771  0.184   0.1846  0.1796  0.1845\n",
      "  0.1797]\n"
     ]
    }
   ],
   "source": [
    "# Check that the average default time of the individual loans are around 5 years\n",
    "print( np.mean(default_time, axis=0) )\n",
    "\n",
    "# Compute the default ratio for the individual loans within 1 year\n",
    "# it should be about 20%. Exactly 1-exp(-0.2)\n",
    "print( \"Exact default rate < 1yr:\", 1 - np.exp(-0.2) )\n",
    "print( np.sum(default_time < 1.0, axis=0) / n_sample )"
   ]
  },
  {
   "cell_type": "code",
   "execution_count": 65,
   "metadata": {
    "collapsed": false
   },
   "outputs": [
    {
     "name": "stdout",
     "output_type": "stream",
     "text": [
      "[0 1 0 ..., 5 4 2]\n"
     ]
    }
   ],
   "source": [
    "# Count the total defaults in the pool within 1 year\n",
    "default_total = np.sum(default_time < 1.0, axis=1)\n",
    "print( default_total )"
   ]
  },
  {
   "cell_type": "code",
   "execution_count": 66,
   "metadata": {
    "collapsed": false
   },
   "outputs": [
    {
     "data": {
      "text/plain": [
       "0.089200000000000002"
      ]
     },
     "execution_count": 66,
     "metadata": {},
     "output_type": "execute_result"
    }
   ],
   "source": [
    "# Compute the percentage of the total default bigger than 4\n",
    "# This is the probability of the senior tranche having any loss\n",
    "sum(default_total > 5)/n_sample"
   ]
  },
  {
   "cell_type": "code",
   "execution_count": 67,
   "metadata": {
    "collapsed": false
   },
   "outputs": [
    {
     "data": {
      "text/plain": [
       "95.878"
      ]
     },
     "execution_count": 67,
     "metadata": {},
     "output_type": "execute_result"
    }
   ],
   "source": [
    "# We can also compute the expected recovery rate (out of 100)\n",
    "np.mean(np.fmin(10-default_total,5))/5.0 * 100"
   ]
  },
  {
   "cell_type": "markdown",
   "metadata": {},
   "source": [
    "## When the correlation is high, the default rate of the senior tranche CDO is just as bas as the individual loans (sub-prime)"
   ]
  },
  {
   "cell_type": "code",
   "execution_count": null,
   "metadata": {
    "collapsed": true
   },
   "outputs": [],
   "source": []
  }
 ],
 "metadata": {
  "anaconda-cloud": {},
  "kernelspec": {
   "display_name": "Python [default]",
   "language": "python",
   "name": "python3"
  },
  "language_info": {
   "codemirror_mode": {
    "name": "ipython",
    "version": 3
   },
   "file_extension": ".py",
   "mimetype": "text/x-python",
   "name": "python",
   "nbconvert_exporter": "python",
   "pygments_lexer": "ipython3",
   "version": "3.5.2"
  }
 },
 "nbformat": 4,
 "nbformat_minor": 1
}
