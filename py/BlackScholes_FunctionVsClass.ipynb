{
 "cells": [
  {
   "cell_type": "code",
   "execution_count": 62,
   "metadata": {
    "collapsed": true
   },
   "outputs": [],
   "source": [
    "import numpy as np\n",
    "import scipy.stats as ss\n",
    "import datetime as dt"
   ]
  },
  {
   "cell_type": "markdown",
   "metadata": {},
   "source": [
    "# Black Scholes option price\n",
    "# Function approach"
   ]
  },
  {
   "cell_type": "code",
   "execution_count": 4,
   "metadata": {
    "collapsed": false
   },
   "outputs": [],
   "source": [
    "# Black-Scholes option price\n",
    "\n",
    "def bsm_option_price(strike, spot, vol, texp, intr=0.0, divr=0.0, callput=1):\n",
    "    \n",
    "    if (callput > 0):\n",
    "        cp_sign = 1.0 \n",
    "    else:\n",
    "        cp_sign = -1.0\n",
    "    \n",
    "    vol_std = vol * np.sqrt(texp)\n",
    "    div_fac = np.exp(-texp*divr)\n",
    "    disc_fac = np.exp(-texp*intr)\n",
    "    forward = spot / disc_fac * div_fac\n",
    "    d1 = np.log(forward/strike)/vol_std + 0.5*vol_std\n",
    "    d2 = d1 - vol_std\n",
    "\n",
    "    price = cp_sign * disc_fac \\\n",
    "        * ( forward * ss.norm.cdf(cp_sign*d1) - strike * ss.norm.cdf(cp_sign*d2) )\n",
    "    return price"
   ]
  },
  {
   "cell_type": "markdown",
   "metadata": {},
   "source": [
    "### Different ways of using function arguments"
   ]
  },
  {
   "cell_type": "code",
   "execution_count": 5,
   "metadata": {
    "collapsed": false
   },
   "outputs": [
    {
     "data": {
      "text/plain": [
       "(2.0640191378988462, 2.0640191378988462, 2.0640191378988462)"
      ]
     },
     "execution_count": 5,
     "metadata": {},
     "output_type": "execute_result"
    }
   ],
   "source": [
    "### full arguments\n",
    "c1 = bsm_option_price(105, 100, 0.2, 0.25, 0, 0, 1)\n",
    "\n",
    "### omit arguments with default vaules\n",
    "c2 = bsm_option_price(105, 100, 0.2, 0.25)\n",
    "\n",
    "### you need to pass all required arguments\n",
    "#c2 = bsm_option_price(105, 100, 0.2)\n",
    "\n",
    "### use argument names\n",
    "c3 = bsm_option_price(105, 100, texp=0.25, vol=0.2)\n",
    "\n",
    "### always put the named args at the end\n",
    "#c3 = bsm_option_price(105, texp=0.25, 100, vol=0.2)\n",
    "\n",
    "c1, c2, c3"
   ]
  },
  {
   "cell_type": "markdown",
   "metadata": {
    "collapsed": true
   },
   "source": [
    "## Disadvantage of function approach:\n",
    "* The computation in the function has to be repeated every time.\n",
    "* Some part doesn't have to be repeated: for example, __vol, texp, intr, divr__ don't change often. So   __vol_std, disc_fac, div_fac__ don't have to be computed.\n",
    "* You feel some needs to organize by binding some data + function(method)"
   ]
  },
  {
   "cell_type": "code",
   "execution_count": null,
   "metadata": {
    "collapsed": true
   },
   "outputs": [],
   "source": []
  },
  {
   "cell_type": "markdown",
   "metadata": {},
   "source": [
    "# Class approach\n",
    "We're going to bind __vol, int_r, int_d__ as a class"
   ]
  },
  {
   "cell_type": "code",
   "execution_count": 174,
   "metadata": {
    "collapsed": true
   },
   "outputs": [],
   "source": [
    "class BSM_Ver1:\n",
    "    def __init__(self, vol, texp, intr=0.0, divr=0.0):\n",
    "        ''' Constructor for this class. '''\n",
    "        # Create some member animals\n",
    "        self.vol, self.texp, self.intr, self.divr = vol, texp, intr, divr\n",
    "    \n",
    "    def price(self, strike, spot, cp_sign=1):\n",
    "        # cp_sign = 1 for call, -1 for put\n",
    "        vol_std = self.vol * np.sqrt(self.texp)\n",
    "        div_fac = np.exp(-self.texp*self.divr)\n",
    "        disc_fac = np.exp(-self.texp*self.intr)\n",
    "        forward = spot / disc_fac * div_fac\n",
    "        d1 = np.log(forward/strike)/vol_std + 0.5*vol_std\n",
    "        d2 = d1 - vol_std\n",
    "\n",
    "        price = cp_sign * disc_fac \\\n",
    "            * ( forward * ss.norm.cdf(cp_sign*d1) - strike * ss.norm.cdf(cp_sign*d2) )\n",
    "        return price"
   ]
  },
  {
   "cell_type": "code",
   "execution_count": 175,
   "metadata": {
    "collapsed": false
   },
   "outputs": [
    {
     "name": "stdout",
     "output_type": "stream",
     "text": [
      "{'texp': 1, 'vol': 0.2, 'intr': 0.0, 'divr': 0.0}\n"
     ]
    },
    {
     "data": {
      "text/plain": [
       "(7.0844942478298947, 9.0844942478298805)"
      ]
     },
     "execution_count": 175,
     "metadata": {},
     "output_type": "execute_result"
    }
   ],
   "source": [
    "### define a bsm model with spot, vol and expiry.\n",
    "bsm1 = BSM_Ver1(vol=0.2, texp=1, intr=0.0)\n",
    "\n",
    "print( bsm1.__dict__ )\n",
    "\n",
    "### price options with strike\n",
    "bsm1.price(102, 100), bsm1.price(strike=102, spot=100, cp_sign=-1)"
   ]
  },
  {
   "cell_type": "code",
   "execution_count": 176,
   "metadata": {
    "collapsed": false
   },
   "outputs": [
    {
     "data": {
      "text/plain": [
       "(15.029816377425, 17.029816377425)"
      ]
     },
     "execution_count": 176,
     "metadata": {},
     "output_type": "execute_result"
    }
   ],
   "source": [
    "### Lets change vol/expiry\n",
    "bsm1.vol = 0.4\n",
    "#bsm1.texp = 3\n",
    "\n",
    "### option price changes\n",
    "bsm1.price(102, 100), bsm1.price(strike=102, spot=100, cp_sign=-1)"
   ]
  },
  {
   "cell_type": "code",
   "execution_count": 177,
   "metadata": {
    "collapsed": true
   },
   "outputs": [],
   "source": [
    "class BSM_Ver2:\n",
    "    def __init__(self, vol, texp, intr=0.0, divr=0.0):\n",
    "        ''' Constructor for this class. '''\n",
    "        # Create some member animals\n",
    "        self.vol, self.texp, self.intr, self.divr = vol, texp, intr, divr\n",
    "        \n",
    "        self.vol_std = vol * np.sqrt(texp)\n",
    "        self.div_fac = np.exp(-texp*divr)\n",
    "        self.disc_fac = np.exp(-texp*intr)\n",
    "    \n",
    "    def price(self, strike, spot, cp_sign=1):\n",
    "        forward = spot / self.disc_fac * self.div_fac\n",
    "        d1 = np.log(forward/strike)/self.vol_std + 0.5*self.vol_std\n",
    "        d2 = d1 - self.vol_std\n",
    "        price = cp_sign * self.disc_fac \\\n",
    "            * ( forward * ss.norm.cdf(cp_sign*d1) - strike * ss.norm.cdf(cp_sign*d2) )\n",
    "        return price"
   ]
  },
  {
   "cell_type": "code",
   "execution_count": 178,
   "metadata": {
    "collapsed": false
   },
   "outputs": [
    {
     "data": {
      "text/plain": [
       "(7.0844942478298947, 9.0844942478298805)"
      ]
     },
     "execution_count": 178,
     "metadata": {},
     "output_type": "execute_result"
    }
   ],
   "source": [
    "bsm2 = BSM_Ver2(vol=0.2, texp=1)\n",
    "\n",
    "bsm2.price(102, 100), bsm2.price(102, 100, cp_sign=-1)"
   ]
  },
  {
   "cell_type": "code",
   "execution_count": 179,
   "metadata": {
    "collapsed": false
   },
   "outputs": [
    {
     "data": {
      "text/plain": [
       "(7.0844942478298947, 9.0844942478298805)"
      ]
     },
     "execution_count": 179,
     "metadata": {},
     "output_type": "execute_result"
    }
   ],
   "source": [
    "### But... now things are not that simple\n",
    "bsm2.vol = 0.4\n",
    "### option prices are price same after volatility change !@#$\n",
    "bsm2.price(102, 100), bsm2.price(102, 100, cp_sign=-1)\n",
    "#print( bsm2.__dict__ )"
   ]
  },
  {
   "cell_type": "code",
   "execution_count": 185,
   "metadata": {
    "collapsed": false
   },
   "outputs": [],
   "source": [
    "class BSM_Ver3:\n",
    "    def __init__(self, vol, texp, intr=0.0, divr=0.0):\n",
    "        ''' Constructor for this class. '''\n",
    "        # you need to 'initialize' all data members in __init__ function\n",
    "        self.vol, self.texp, self.intr, self.divr = vol, texp, intr, divr\n",
    "        self.setparams()\n",
    "\n",
    "    def setparams(self, vol=None, texp=None, intr=None, divr=None):\n",
    "        self.vol = vol or self.vol\n",
    "        self.texp = texp or self.texp\n",
    "        self.intr = intr or self.intr\n",
    "        self.divr = divr or self.divr\n",
    "        \n",
    "        self.vol_std = self.vol * np.sqrt(self.texp)\n",
    "        self.div_fac = np.exp(-self.texp*self.divr)\n",
    "        self.disc_fac = np.exp(-self.texp*self.intr)\n",
    "    \n",
    "    def price(self, strike, spot, cp_sign=1):\n",
    "        forward = spot / self.disc_fac * self.div_fac\n",
    "        d1 = np.log(forward/strike)/self.vol_std + 0.5*self.vol_std\n",
    "        d2 = d1 - self.vol_std\n",
    "        price = cp_sign * self.disc_fac \\\n",
    "            * ( forward * ss.norm.cdf(cp_sign*d1) - strike * ss.norm.cdf(cp_sign*d2) )\n",
    "        return price\n",
    "    \n",
    "    def delta(self, strike, spot, cp_sign=1):\n",
    "        forward = spot / self.disc_fac * self.div_fac\n",
    "        d1 = np.log(forward/strike)/self.vol_std + 0.5*self.vol_std\n",
    "        delta = cp_sign * ss.norm.cdf(cp_sign*d1)\n",
    "        return delta"
   ]
  },
  {
   "cell_type": "code",
   "execution_count": 186,
   "metadata": {
    "collapsed": false
   },
   "outputs": [
    {
     "data": {
      "text/plain": [
       "(7.0844942478298947, 9.0844942478298805, 0.50039370151885099)"
      ]
     },
     "execution_count": 186,
     "metadata": {},
     "output_type": "execute_result"
    }
   ],
   "source": [
    "bsm3 = BSM_Ver3(vol=0.2, texp=1)\n",
    "\n",
    "bsm3.price(102, 100, 1), bsm3.price(102, 100, -1), bsm3.delta(102, 100)"
   ]
  },
  {
   "cell_type": "code",
   "execution_count": 188,
   "metadata": {
    "collapsed": false
   },
   "outputs": [
    {
     "data": {
      "text/plain": [
       "(15.442197598441437, 16.42728064085658, 0.56965403430446548)"
      ]
     },
     "execution_count": 188,
     "metadata": {},
     "output_type": "execute_result"
    }
   ],
   "source": [
    "### not let's try setparams method\n",
    "bsm3.setparams(vol=0.4, intr=0.01)\n",
    "### option prices are price same after volatility change !@#$\n",
    "bsm3.price(102, 100, 1), bsm3.price(102, 100, -1), bsm3.delta(102, 100)\n",
    "\n",
    "#print( bsm2.__dict__ )"
   ]
  },
  {
   "cell_type": "code",
   "execution_count": 214,
   "metadata": {
    "collapsed": false
   },
   "outputs": [],
   "source": [
    "class OptionContract:\n",
    "    def __init__(self, undl, opt_type, strike, dexp, dtoday=dt.date.today()):\n",
    "        ''' Constructor for this class. '''\n",
    "        self.undl, self.strike, self.dexp, self.dtoday = undl, strike, dexp, dtoday\n",
    "        self.opt_type = opt_type\n",
    "        self.cp_sign = 1 if (opt_type == 'call') else -1\n",
    "        self.texp = (dexp - dtoday).days/365.25\n",
    "\n",
    "    def toString(self):\n",
    "        return('{:s} option on {:s} struck at {:0.1f} maturing on {:s}'\\\n",
    "              .format(self.opt_type, self.undl, self.strike, self.dexp.strftime('%Y.%m.%d')))\n",
    "\n",
    "    def price(self, spot, model):\n",
    "        if(abs(model.texp - self.texp)>1e-12):\n",
    "            print('Resetting texp of model ...')\n",
    "            model.setparams(texp=self.texp)\n",
    "        return model.price(self.strike, spot, cp_sign=self.cp_sign)\n",
    "    \n",
    "    def delta(self, spot, model):\n",
    "        if(abs(model.texp - self.texp)>1e-12):\n",
    "            print('Resetting texp of model ...')\n",
    "            model.setparams(texp=self.texp)\n",
    "        return model.delta(self.strike, spot, cp_sign=self.cp_sign)        "
   ]
  },
  {
   "cell_type": "code",
   "execution_count": 227,
   "metadata": {
    "collapsed": false
   },
   "outputs": [
    {
     "name": "stdout",
     "output_type": "stream",
     "text": [
      "call option on Tencent struck at 105.0 maturing on 2017.12.25\n",
      "put option on Tencent struck at 95.0 maturing on 2017.12.25\n"
     ]
    }
   ],
   "source": [
    "bsm_model = BSM_Ver3(vol=0.2, texp=1)\n",
    "tc_c105_dec = OptionContract('Tencent', 'call', 105, dexp=dt.date(2017, 12, 25))\n",
    "tc_p95_dec = OptionContract('Tencent', 'put', 95, dexp=dt.date(2017, 12, 25))\n",
    "print(tc_c105_dec.toString())\n",
    "print(tc_p95_dec.toString())"
   ]
  },
  {
   "cell_type": "code",
   "execution_count": 228,
   "metadata": {
    "collapsed": false
   },
   "outputs": [
    {
     "name": "stdout",
     "output_type": "stream",
     "text": [
      "Resetting texp of model ...\n",
      "2.36574200253 2.17175790024 0.345833524173\n"
     ]
    }
   ],
   "source": [
    "tc_spot = 100\n",
    "price1 = tc_c105_dec.price(tc_spot, model=bsm_model)\n",
    "price2 = tc_p95_dec.price(tc_spot, model=bsm_model)\n",
    "delta = tc_c105_dec.delta(tc_spot, model=bsm_model)\n",
    "\n",
    "print( price1, price2, delta )"
   ]
  },
  {
   "cell_type": "code",
   "execution_count": 229,
   "metadata": {
    "collapsed": false
   },
   "outputs": [
    {
     "name": "stdout",
     "output_type": "stream",
     "text": [
      "{'texp': 0.2929500342231348, 'vol': 0.2, 'intr': 0.0, 'disc_fac': 1.0, 'divr': 0.0, 'vol_std': 0.10824971763900999, 'div_fac': 1.0}\n"
     ]
    }
   ],
   "source": [
    "print(bsm_model.__dict__)"
   ]
  },
  {
   "cell_type": "code",
   "execution_count": null,
   "metadata": {
    "collapsed": false
   },
   "outputs": [],
   "source": []
  },
  {
   "cell_type": "code",
   "execution_count": null,
   "metadata": {
    "collapsed": true
   },
   "outputs": [],
   "source": []
  },
  {
   "cell_type": "code",
   "execution_count": null,
   "metadata": {
    "collapsed": false
   },
   "outputs": [],
   "source": []
  },
  {
   "cell_type": "code",
   "execution_count": null,
   "metadata": {
    "collapsed": true
   },
   "outputs": [],
   "source": []
  }
 ],
 "metadata": {
  "anaconda-cloud": {},
  "kernelspec": {
   "display_name": "Python [default]",
   "language": "python",
   "name": "python3"
  },
  "language_info": {
   "codemirror_mode": {
    "name": "ipython",
    "version": 3
   },
   "file_extension": ".py",
   "mimetype": "text/x-python",
   "name": "python",
   "nbconvert_exporter": "python",
   "pygments_lexer": "ipython3",
   "version": "3.5.2"
  }
 },
 "nbformat": 4,
 "nbformat_minor": 1
}
